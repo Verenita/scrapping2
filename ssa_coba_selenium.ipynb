{
 "cells": [
  {
   "cell_type": "code",
   "execution_count": 119,
   "id": "621cb06f-adac-4953-b853-b3f903a39c29",
   "metadata": {},
   "outputs": [],
   "source": [
    "from selenium import webdriver\n",
    "\n",
    "from selenium.webdriver.chrome.service import Service as ChromeService\n",
    "from selenium.webdriver.common.by import By"
   ]
  },
  {
   "cell_type": "code",
   "execution_count": 120,
   "id": "f2d847ca-bffb-489a-a5ff-aa84f5b07774",
   "metadata": {},
   "outputs": [],
   "source": [
    "#driver = webdriver.Chrome(service=Chromeservice(ChromeDriverManager().install()))\n",
    "driver = webdriver.Chrome()"
   ]
  },
  {
   "cell_type": "code",
   "execution_count": 121,
   "id": "0eba4090-9ee0-459d-b62b-a40d4a63a255",
   "metadata": {},
   "outputs": [],
   "source": [
    "driver.get('file:///C:/Users/user/Documents/javalearning/scrapping/contoh.html')"
   ]
  },
  {
   "cell_type": "code",
   "execution_count": 122,
   "id": "926b4243-4caf-4d72-a571-e633b51bafd4",
   "metadata": {},
   "outputs": [],
   "source": [
    "elem_h1 = driver.find_element(By.TAG_NAME, 'h1')"
   ]
  },
  {
   "cell_type": "code",
   "execution_count": 123,
   "id": "f66da6a1-718d-487e-ba1e-8f8498422a50",
   "metadata": {},
   "outputs": [
    {
     "data": {
      "text/plain": [
       "'Ini tulisan besar___'"
      ]
     },
     "execution_count": 123,
     "metadata": {},
     "output_type": "execute_result"
    }
   ],
   "source": [
    "elem_h1.text"
   ]
  },
  {
   "cell_type": "code",
   "execution_count": 124,
   "id": "59f82af2-4aac-4f6d-bad7-9331af9c96e6",
   "metadata": {},
   "outputs": [],
   "source": [
    "elem_input = driver.find_elements(By.TAG_NAME, 'input')"
   ]
  },
  {
   "cell_type": "code",
   "execution_count": 125,
   "id": "7dcb91ae-8743-4a31-aa5d-a63e94497e4b",
   "metadata": {},
   "outputs": [
    {
     "data": {
      "text/plain": [
       "'button'"
      ]
     },
     "execution_count": 125,
     "metadata": {},
     "output_type": "execute_result"
    }
   ],
   "source": [
    "elem_input[0].get_attribute('type')"
   ]
  },
  {
   "cell_type": "code",
   "execution_count": 126,
   "id": "0ac708eb-fb03-4389-9d79-2e247b33e540",
   "metadata": {},
   "outputs": [],
   "source": [
    "elem_username = driver.find_element(By.NAME, \"user\")"
   ]
  },
  {
   "cell_type": "code",
   "execution_count": 127,
   "id": "5408a836-76e1-412e-a4a3-85c55ba873f6",
   "metadata": {},
   "outputs": [],
   "source": [
    "elem_username.send_keys('INi COBA')"
   ]
  },
  {
   "cell_type": "code",
   "execution_count": 128,
   "id": "8e58e7e3-1be2-4712-b837-d1738dba3999",
   "metadata": {},
   "outputs": [],
   "source": [
    "elem_username.clear()"
   ]
  },
  {
   "cell_type": "code",
   "execution_count": 129,
   "id": "393f8587-b7b9-4ed6-9029-d2e6df89c6d1",
   "metadata": {},
   "outputs": [],
   "source": [
    "driver.find_element(By.NAME, 'user').send_keys('coba lagi')"
   ]
  },
  {
   "cell_type": "code",
   "execution_count": 130,
   "id": "9cc04b2b-ce38-4a77-b74b-d891a96833a4",
   "metadata": {},
   "outputs": [],
   "source": [
    "driver.find_element(By.XPATH, '//input[@value=\"tombol\"]').click()"
   ]
  },
  {
   "cell_type": "code",
   "execution_count": 131,
   "id": "1d1d7f1e-f2ad-494f-880b-df27a404c15f",
   "metadata": {},
   "outputs": [],
   "source": [
    "tombol = driver.find_element(By.XPATH, '//input[@value=\"tombol\"]')"
   ]
  },
  {
   "cell_type": "code",
   "execution_count": 132,
   "id": "66d344f1-2cd4-403c-9a92-bbfd863190b5",
   "metadata": {},
   "outputs": [],
   "source": [
    "tombol.click()"
   ]
  },
  {
   "cell_type": "code",
   "execution_count": 133,
   "id": "48bcb5b7-3a2b-4ebb-8916-114b7fba2def",
   "metadata": {},
   "outputs": [],
   "source": [
    "driver.find_element(By.XPATH, '//input[@type=\"submit\"]').click()"
   ]
  },
  {
   "cell_type": "code",
   "execution_count": null,
   "id": "5ecc6310-fb77-4017-a317-cd4c282ed07e",
   "metadata": {},
   "outputs": [],
   "source": []
  },
  {
   "cell_type": "code",
   "execution_count": 134,
   "id": "0aeef8e6-8b8b-44c0-a161-d3ded1ad19f2",
   "metadata": {},
   "outputs": [],
   "source": [
    "driver.get('https://ibank.klikbca.com/')\n",
    "username = 'andysuna0008'\n",
    "password = '588778'"
   ]
  },
  {
   "cell_type": "code",
   "execution_count": 135,
   "id": "4056a3ce-7e20-4a83-aeb5-da735f6889cd",
   "metadata": {},
   "outputs": [],
   "source": [
    "driver.find_element(By.ID, \"txt_user_id\").send_keys(username)"
   ]
  },
  {
   "cell_type": "code",
   "execution_count": 136,
   "id": "f56203e5-90a8-4d77-88e9-5e62a02f0697",
   "metadata": {},
   "outputs": [],
   "source": [
    "driver.find_element(By.ID, \"txt_pswd\").send_keys(password)"
   ]
  },
  {
   "cell_type": "code",
   "execution_count": 137,
   "id": "cda66676-a5e3-4bb3-8864-1b67257c4ea9",
   "metadata": {},
   "outputs": [],
   "source": [
    "driver.find_element(By.ID, \"btnSubmit\").click()"
   ]
  },
  {
   "cell_type": "code",
   "execution_count": null,
   "id": "c5be7c69-0737-4e23-844a-b6120cbf6254",
   "metadata": {},
   "outputs": [],
   "source": [
    "from pqd import USERNAME, PWD"
   ]
  },
  {
   "cell_type": "code",
   "execution_count": null,
   "id": "274f48ca-5062-48d1-93d8-6c3d8da8f626",
   "metadata": {},
   "outputs": [],
   "source": [
    "driver.get('https://ibank.klikbca.com/')"
   ]
  },
  {
   "cell_type": "code",
   "execution_count": null,
   "id": "3cb9d4fd-8983-470f-89d4-b2dc0a3e45c4",
   "metadata": {},
   "outputs": [],
   "source": [
    "driver.find_element(By.ID, \"txt_user_id\").clear()\n",
    "driver.find_element(By.ID, \"txt_user_id\").send_keys(USERNAME)"
   ]
  },
  {
   "cell_type": "code",
   "execution_count": null,
   "id": "90b27a5c-d957-449d-a456-db42feeca824",
   "metadata": {},
   "outputs": [],
   "source": [
    "driver.find_element(By.ID, \"btnSubmit\").click()"
   ]
  }
 ],
 "metadata": {
  "kernelspec": {
   "display_name": "Python 3 (ipykernel)",
   "language": "python",
   "name": "python3"
  },
  "language_info": {
   "codemirror_mode": {
    "name": "ipython",
    "version": 3
   },
   "file_extension": ".py",
   "mimetype": "text/x-python",
   "name": "python",
   "nbconvert_exporter": "python",
   "pygments_lexer": "ipython3",
   "version": "3.13.1"
  }
 },
 "nbformat": 4,
 "nbformat_minor": 5
}
