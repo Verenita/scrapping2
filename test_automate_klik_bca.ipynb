{
 "cells": [
  {
   "cell_type": "code",
   "execution_count": 46,
   "id": "e51574d0-66bf-433c-876b-7f7079f62ac6",
   "metadata": {},
   "outputs": [],
   "source": [
    "from pqd import USERNAME, PWD\n",
    "\n",
    "import time\n",
    "\n",
    "from selenium.webdriver.common.by import By\n",
    "from selenium.webdriver.support.ui import WebDriverWait\n",
    "from selenium.webdriver.support import expected_conditions as EC\n",
    "\n",
    "import undetected_chromedriver as uc\n",
    "\n",
    "driver = uc.Chrome()"
   ]
  },
  {
   "cell_type": "code",
   "execution_count": 47,
   "id": "1aa87bb2-e6c4-44b1-86ae-f9487eab48f0",
   "metadata": {},
   "outputs": [],
   "source": [
    "initial_url = 'https://ibank.klikbca.com'\n",
    "\n",
    "driver.get(initial_url)\n",
    "\n",
    "time.sleep(3)\n",
    "driver.find_element(By.ID, 'txt_user_id').send_keys(USERNAME)\n",
    "elem = driver.find_element(By.XPATH, '//input[@name=\"value(user_id)\"]')\n",
    "driver.execute_script(f'arguments[0].value = arguments[1];', elem, USERNAME)\n",
    "time.sleep(3)\n",
    "\n",
    "driver.find_element(By.ID, 'txt_pswd').send_keys(PWD)\n",
    "elem = driver.find_element(By.XPATH, '//input[@name=\"value(pswd)\"]')\n",
    "driver.execute_script(f'arguments[0].value = arguments[1];', elem, PWD)\n",
    "\n",
    "#time.sleep(30)\n",
    "\n",
    "\n",
    "driver.find_element(By.ID, 'btnSubmit').click()"
   ]
  },
  {
   "cell_type": "code",
   "execution_count": 43,
   "id": "9459eced-7b4f-4090-b058-743f1015d029",
   "metadata": {},
   "outputs": [],
   "source": [
    "driver.switch_to.frame(driver.find_element(By.NAME, 'menu'))\n",
    "\n",
    "driver.find_element(By.XPATH, '//b[contains(text(), \"e-Statement\")]/parent::font/parent::a').click()\n",
    "time.sleep(3)"
   ]
  },
  {
   "cell_type": "code",
   "execution_count": 45,
   "id": "051716c6-8517-444d-a4fe-affeed2c9e69",
   "metadata": {},
   "outputs": [
    {
     "ename": "NoSuchElementException",
     "evalue": "Message: no such element: Unable to locate element: {\"method\":\"xpath\",\"selector\":\"//a[contains(text(), \"Savings and Giro\")]\"}\n  (Session info: chrome=131.0.6778.205); For documentation on this error, please visit: https://www.selenium.dev/documentation/webdriver/troubleshooting/errors#no-such-element-exception\nStacktrace:\n\tGetHandleVerifier [0x00EAEC13+23731]\n\t(No symbol) [0x00E3C394]\n\t(No symbol) [0x00D1BE63]\n\t(No symbol) [0x00D5FCE6]\n\t(No symbol) [0x00D5FF2B]\n\t(No symbol) [0x00D9D892]\n\t(No symbol) [0x00D81EA4]\n\t(No symbol) [0x00D9B46E]\n\t(No symbol) [0x00D81BF6]\n\t(No symbol) [0x00D53F35]\n\t(No symbol) [0x00D54EBD]\n\tGetHandleVerifier [0x0118F0D3+3039603]\n\tGetHandleVerifier [0x011A2DEA+3120778]\n\tGetHandleVerifier [0x0119B592+3089970]\n\tGetHandleVerifier [0x00F443B0+635984]\n\t(No symbol) [0x00E44DCD]\n\t(No symbol) [0x00E42068]\n\t(No symbol) [0x00E42205]\n\t(No symbol) [0x00E34FD0]\n\tBaseThreadInitThunk [0x75C9FCC9+25]\n\tRtlGetAppContainerNamedObjectPath [0x773E809E+286]\n\tRtlGetAppContainerNamedObjectPath [0x773E806E+238]\n",
     "output_type": "error",
     "traceback": [
      "\u001b[1;31m---------------------------------------------------------------------------\u001b[0m",
      "\u001b[1;31mNoSuchElementException\u001b[0m                    Traceback (most recent call last)",
      "Cell \u001b[1;32mIn[45], line 1\u001b[0m\n\u001b[1;32m----> 1\u001b[0m \u001b[43mdriver\u001b[49m\u001b[38;5;241;43m.\u001b[39;49m\u001b[43mfind_element\u001b[49m\u001b[43m(\u001b[49m\u001b[43mBy\u001b[49m\u001b[38;5;241;43m.\u001b[39;49m\u001b[43mXPATH\u001b[49m\u001b[43m,\u001b[49m\u001b[43m \u001b[49m\u001b[38;5;124;43m'\u001b[39;49m\u001b[38;5;124;43m//a[contains(text(), \u001b[39;49m\u001b[38;5;124;43m\"\u001b[39;49m\u001b[38;5;124;43mSavings and Giro\u001b[39;49m\u001b[38;5;124;43m\"\u001b[39;49m\u001b[38;5;124;43m)]\u001b[39;49m\u001b[38;5;124;43m'\u001b[39;49m\u001b[43m)\u001b[49m\u001b[38;5;241m.\u001b[39mclick()\n\u001b[0;32m      2\u001b[0m time\u001b[38;5;241m.\u001b[39msleep(\u001b[38;5;241m3\u001b[39m)\n",
      "File \u001b[1;32m~\\AppData\\Local\\Programs\\Python\\Python313\\Lib\\site-packages\\selenium\\webdriver\\remote\\webdriver.py:770\u001b[0m, in \u001b[0;36mWebDriver.find_element\u001b[1;34m(self, by, value)\u001b[0m\n\u001b[0;32m    767\u001b[0m         \u001b[38;5;28;01mraise\u001b[39;00m NoSuchElementException(\u001b[38;5;124mf\u001b[39m\u001b[38;5;124m\"\u001b[39m\u001b[38;5;124mCannot locate relative element with: \u001b[39m\u001b[38;5;132;01m{\u001b[39;00mby\u001b[38;5;241m.\u001b[39mroot\u001b[38;5;132;01m}\u001b[39;00m\u001b[38;5;124m\"\u001b[39m)\n\u001b[0;32m    768\u001b[0m     \u001b[38;5;28;01mreturn\u001b[39;00m elements[\u001b[38;5;241m0\u001b[39m]\n\u001b[1;32m--> 770\u001b[0m \u001b[38;5;28;01mreturn\u001b[39;00m \u001b[38;5;28;43mself\u001b[39;49m\u001b[38;5;241;43m.\u001b[39;49m\u001b[43mexecute\u001b[49m\u001b[43m(\u001b[49m\u001b[43mCommand\u001b[49m\u001b[38;5;241;43m.\u001b[39;49m\u001b[43mFIND_ELEMENT\u001b[49m\u001b[43m,\u001b[49m\u001b[43m \u001b[49m\u001b[43m{\u001b[49m\u001b[38;5;124;43m\"\u001b[39;49m\u001b[38;5;124;43musing\u001b[39;49m\u001b[38;5;124;43m\"\u001b[39;49m\u001b[43m:\u001b[49m\u001b[43m \u001b[49m\u001b[43mby\u001b[49m\u001b[43m,\u001b[49m\u001b[43m \u001b[49m\u001b[38;5;124;43m\"\u001b[39;49m\u001b[38;5;124;43mvalue\u001b[39;49m\u001b[38;5;124;43m\"\u001b[39;49m\u001b[43m:\u001b[49m\u001b[43m \u001b[49m\u001b[43mvalue\u001b[49m\u001b[43m}\u001b[49m\u001b[43m)\u001b[49m[\u001b[38;5;124m\"\u001b[39m\u001b[38;5;124mvalue\u001b[39m\u001b[38;5;124m\"\u001b[39m]\n",
      "File \u001b[1;32m~\\AppData\\Local\\Programs\\Python\\Python313\\Lib\\site-packages\\selenium\\webdriver\\remote\\webdriver.py:384\u001b[0m, in \u001b[0;36mWebDriver.execute\u001b[1;34m(self, driver_command, params)\u001b[0m\n\u001b[0;32m    382\u001b[0m response \u001b[38;5;241m=\u001b[39m \u001b[38;5;28mself\u001b[39m\u001b[38;5;241m.\u001b[39mcommand_executor\u001b[38;5;241m.\u001b[39mexecute(driver_command, params)\n\u001b[0;32m    383\u001b[0m \u001b[38;5;28;01mif\u001b[39;00m response:\n\u001b[1;32m--> 384\u001b[0m     \u001b[38;5;28;43mself\u001b[39;49m\u001b[38;5;241;43m.\u001b[39;49m\u001b[43merror_handler\u001b[49m\u001b[38;5;241;43m.\u001b[39;49m\u001b[43mcheck_response\u001b[49m\u001b[43m(\u001b[49m\u001b[43mresponse\u001b[49m\u001b[43m)\u001b[49m\n\u001b[0;32m    385\u001b[0m     response[\u001b[38;5;124m\"\u001b[39m\u001b[38;5;124mvalue\u001b[39m\u001b[38;5;124m\"\u001b[39m] \u001b[38;5;241m=\u001b[39m \u001b[38;5;28mself\u001b[39m\u001b[38;5;241m.\u001b[39m_unwrap_value(response\u001b[38;5;241m.\u001b[39mget(\u001b[38;5;124m\"\u001b[39m\u001b[38;5;124mvalue\u001b[39m\u001b[38;5;124m\"\u001b[39m, \u001b[38;5;28;01mNone\u001b[39;00m))\n\u001b[0;32m    386\u001b[0m     \u001b[38;5;28;01mreturn\u001b[39;00m response\n",
      "File \u001b[1;32m~\\AppData\\Local\\Programs\\Python\\Python313\\Lib\\site-packages\\selenium\\webdriver\\remote\\errorhandler.py:232\u001b[0m, in \u001b[0;36mErrorHandler.check_response\u001b[1;34m(self, response)\u001b[0m\n\u001b[0;32m    230\u001b[0m         alert_text \u001b[38;5;241m=\u001b[39m value[\u001b[38;5;124m\"\u001b[39m\u001b[38;5;124malert\u001b[39m\u001b[38;5;124m\"\u001b[39m]\u001b[38;5;241m.\u001b[39mget(\u001b[38;5;124m\"\u001b[39m\u001b[38;5;124mtext\u001b[39m\u001b[38;5;124m\"\u001b[39m)\n\u001b[0;32m    231\u001b[0m     \u001b[38;5;28;01mraise\u001b[39;00m exception_class(message, screen, stacktrace, alert_text)  \u001b[38;5;66;03m# type: ignore[call-arg]  # mypy is not smart enough here\u001b[39;00m\n\u001b[1;32m--> 232\u001b[0m \u001b[38;5;28;01mraise\u001b[39;00m exception_class(message, screen, stacktrace)\n",
      "\u001b[1;31mNoSuchElementException\u001b[0m: Message: no such element: Unable to locate element: {\"method\":\"xpath\",\"selector\":\"//a[contains(text(), \"Savings and Giro\")]\"}\n  (Session info: chrome=131.0.6778.205); For documentation on this error, please visit: https://www.selenium.dev/documentation/webdriver/troubleshooting/errors#no-such-element-exception\nStacktrace:\n\tGetHandleVerifier [0x00EAEC13+23731]\n\t(No symbol) [0x00E3C394]\n\t(No symbol) [0x00D1BE63]\n\t(No symbol) [0x00D5FCE6]\n\t(No symbol) [0x00D5FF2B]\n\t(No symbol) [0x00D9D892]\n\t(No symbol) [0x00D81EA4]\n\t(No symbol) [0x00D9B46E]\n\t(No symbol) [0x00D81BF6]\n\t(No symbol) [0x00D53F35]\n\t(No symbol) [0x00D54EBD]\n\tGetHandleVerifier [0x0118F0D3+3039603]\n\tGetHandleVerifier [0x011A2DEA+3120778]\n\tGetHandleVerifier [0x0119B592+3089970]\n\tGetHandleVerifier [0x00F443B0+635984]\n\t(No symbol) [0x00E44DCD]\n\t(No symbol) [0x00E42068]\n\t(No symbol) [0x00E42205]\n\t(No symbol) [0x00E34FD0]\n\tBaseThreadInitThunk [0x75C9FCC9+25]\n\tRtlGetAppContainerNamedObjectPath [0x773E809E+286]\n\tRtlGetAppContainerNamedObjectPath [0x773E806E+238]\n"
     ]
    }
   ],
   "source": [
    "driver.find_element(By.XPATH, '//a[contains(text(), \"Savings and Giro\")]').click()\n",
    "time.sleep(3)"
   ]
  },
  {
   "cell_type": "code",
   "execution_count": 44,
   "id": "9e8d6b7a-572c-49ff-bd6e-f4b272a254d1",
   "metadata": {},
   "outputs": [
    {
     "ename": "TimeoutException",
     "evalue": "Message: \nStacktrace:\n\tGetHandleVerifier [0x00EAEC13+23731]\n\t(No symbol) [0x00E3C394]\n\t(No symbol) [0x00D1BE63]\n\t(No symbol) [0x00D5FCE6]\n\t(No symbol) [0x00D5FF2B]\n\t(No symbol) [0x00D9D892]\n\t(No symbol) [0x00D81EA4]\n\t(No symbol) [0x00D9B46E]\n\t(No symbol) [0x00D81BF6]\n\t(No symbol) [0x00D53F35]\n\t(No symbol) [0x00D54EBD]\n\tGetHandleVerifier [0x0118F0D3+3039603]\n\tGetHandleVerifier [0x011A2DEA+3120778]\n\tGetHandleVerifier [0x0119B592+3089970]\n\tGetHandleVerifier [0x00F443B0+635984]\n\t(No symbol) [0x00E44DCD]\n\t(No symbol) [0x00E42068]\n\t(No symbol) [0x00E42205]\n\t(No symbol) [0x00E34FD0]\n\tBaseThreadInitThunk [0x75C9FCC9+25]\n\tRtlGetAppContainerNamedObjectPath [0x773E809E+286]\n\tRtlGetAppContainerNamedObjectPath [0x773E806E+238]\n",
     "output_type": "error",
     "traceback": [
      "\u001b[1;31m---------------------------------------------------------------------------\u001b[0m",
      "\u001b[1;31mTimeoutException\u001b[0m                          Traceback (most recent call last)",
      "Cell \u001b[1;32mIn[44], line 5\u001b[0m\n\u001b[0;32m      1\u001b[0m driver\u001b[38;5;241m.\u001b[39mswitch_to\u001b[38;5;241m.\u001b[39mdefault_content()\n\u001b[0;32m      3\u001b[0m driver\u001b[38;5;241m.\u001b[39mswitch_to\u001b[38;5;241m.\u001b[39mframe(driver\u001b[38;5;241m.\u001b[39mfind_element(By\u001b[38;5;241m.\u001b[39mNAME, \u001b[38;5;124m'\u001b[39m\u001b[38;5;124matm\u001b[39m\u001b[38;5;124m'\u001b[39m))\n\u001b[1;32m----> 5\u001b[0m e_stat \u001b[38;5;241m=\u001b[39m \u001b[43mWebDriverWait\u001b[49m\u001b[43m(\u001b[49m\u001b[43mdriver\u001b[49m\u001b[43m,\u001b[49m\u001b[43m \u001b[49m\u001b[38;5;241;43m10\u001b[39;49m\u001b[43m)\u001b[49m\u001b[38;5;241;43m.\u001b[39;49m\u001b[43muntil\u001b[49m\u001b[43m(\u001b[49m\u001b[43mEC\u001b[49m\u001b[38;5;241;43m.\u001b[39;49m\u001b[43mpresence_of_element_located\u001b[49m\u001b[43m(\u001b[49m\u001b[43m(\u001b[49m\u001b[43mBy\u001b[49m\u001b[38;5;241;43m.\u001b[39;49m\u001b[43mXPATH\u001b[49m\u001b[43m,\u001b[49m\u001b[43m \u001b[49m\u001b[38;5;124;43m'\u001b[39;49m\u001b[38;5;124;43m//input[@id=\u001b[39;49m\u001b[38;5;124;43m\"\u001b[39;49m\u001b[38;5;124;43mhdn-estmt-date-picker\u001b[39;49m\u001b[38;5;124;43m\"\u001b[39;49m\u001b[38;5;124;43m]\u001b[39;49m\u001b[38;5;124;43m'\u001b[39;49m\u001b[43m)\u001b[49m\u001b[43m)\u001b[49m\u001b[43m)\u001b[49m\n\u001b[0;32m      6\u001b[0m value_to_set \u001b[38;5;241m=\u001b[39m \u001b[38;5;124m\"\u001b[39m\u001b[38;5;124m01-2024\u001b[39m\u001b[38;5;124m\"\u001b[39m\n\u001b[0;32m      7\u001b[0m driver\u001b[38;5;241m.\u001b[39mexecute_script(\u001b[38;5;124mf\u001b[39m\u001b[38;5;124m'\u001b[39m\u001b[38;5;124marguments[0].value = arguments[1];\u001b[39m\u001b[38;5;124m'\u001b[39m, e_stat, value_to_set)\n",
      "File \u001b[1;32m~\\AppData\\Local\\Programs\\Python\\Python313\\Lib\\site-packages\\selenium\\webdriver\\support\\wait.py:105\u001b[0m, in \u001b[0;36mWebDriverWait.until\u001b[1;34m(self, method, message)\u001b[0m\n\u001b[0;32m    103\u001b[0m         \u001b[38;5;28;01mbreak\u001b[39;00m\n\u001b[0;32m    104\u001b[0m     time\u001b[38;5;241m.\u001b[39msleep(\u001b[38;5;28mself\u001b[39m\u001b[38;5;241m.\u001b[39m_poll)\n\u001b[1;32m--> 105\u001b[0m \u001b[38;5;28;01mraise\u001b[39;00m TimeoutException(message, screen, stacktrace)\n",
      "\u001b[1;31mTimeoutException\u001b[0m: Message: \nStacktrace:\n\tGetHandleVerifier [0x00EAEC13+23731]\n\t(No symbol) [0x00E3C394]\n\t(No symbol) [0x00D1BE63]\n\t(No symbol) [0x00D5FCE6]\n\t(No symbol) [0x00D5FF2B]\n\t(No symbol) [0x00D9D892]\n\t(No symbol) [0x00D81EA4]\n\t(No symbol) [0x00D9B46E]\n\t(No symbol) [0x00D81BF6]\n\t(No symbol) [0x00D53F35]\n\t(No symbol) [0x00D54EBD]\n\tGetHandleVerifier [0x0118F0D3+3039603]\n\tGetHandleVerifier [0x011A2DEA+3120778]\n\tGetHandleVerifier [0x0119B592+3089970]\n\tGetHandleVerifier [0x00F443B0+635984]\n\t(No symbol) [0x00E44DCD]\n\t(No symbol) [0x00E42068]\n\t(No symbol) [0x00E42205]\n\t(No symbol) [0x00E34FD0]\n\tBaseThreadInitThunk [0x75C9FCC9+25]\n\tRtlGetAppContainerNamedObjectPath [0x773E809E+286]\n\tRtlGetAppContainerNamedObjectPath [0x773E806E+238]\n"
     ]
    }
   ],
   "source": [
    "driver.switch_to.default_content()\n",
    "\n",
    "driver.switch_to.frame(driver.find_element(By.NAME, 'atm'))\n",
    "\n",
    "e_stat = WebDriverWait(driver, 10).until(EC.presence_of_element_located((By.XPATH, '//input[@id=\"hdn-estmt-date-picker\"]')))\n",
    "value_to_set = \"01-2024\"\n",
    "driver.execute_script(f'arguments[0].value = arguments[1];', e_stat, value_to_set)"
   ]
  },
  {
   "cell_type": "code",
   "execution_count": 36,
   "id": "f26337e1-55c1-41fd-b161-63175f6ff366",
   "metadata": {},
   "outputs": [],
   "source": [
    "time.sleep(3)\n",
    "\n",
    "driver.find_element(By.XPATH, '//input[@name=\"value(submit)\"]').click()\n",
    "\n",
    "time.sleep(10)"
   ]
  },
  {
   "cell_type": "code",
   "execution_count": 37,
   "id": "b9887351-ceda-43c3-98c2-7e0fe0f01c52",
   "metadata": {},
   "outputs": [],
   "source": [
    "driver.switch_to.default_content()\n",
    "\n",
    "driver.switch_to.frame(driver.find_element(By.NAME, 'header'))\n",
    "\n",
    "driver.find_element(By.XPATH, '//a[contains(text(), \"LOGOUT\")]').click()"
   ]
  },
  {
   "cell_type": "code",
   "execution_count": 38,
   "id": "bcf05aaf-6857-43b7-98c8-7be13a752865",
   "metadata": {},
   "outputs": [],
   "source": [
    "driver.quit()"
   ]
  },
  {
   "cell_type": "code",
   "execution_count": null,
   "id": "7c04aaf0-4737-4af6-8d81-264d6e8055a8",
   "metadata": {},
   "outputs": [],
   "source": []
  }
 ],
 "metadata": {
  "kernelspec": {
   "display_name": "Python 3 (ipykernel)",
   "language": "python",
   "name": "python3"
  },
  "language_info": {
   "codemirror_mode": {
    "name": "ipython",
    "version": 3
   },
   "file_extension": ".py",
   "mimetype": "text/x-python",
   "name": "python",
   "nbconvert_exporter": "python",
   "pygments_lexer": "ipython3",
   "version": "3.13.1"
  }
 },
 "nbformat": 4,
 "nbformat_minor": 5
}
