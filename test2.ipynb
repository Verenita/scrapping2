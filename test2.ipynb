{
 "cells": [
  {
   "cell_type": "code",
   "execution_count": 3,
   "id": "dec30c8f-f4e2-402d-882f-13f0e807fb4e",
   "metadata": {},
   "outputs": [],
   "source": [
    "from pqd import USERNAME, PWD\n",
    "\n",
    "import time\n",
    "\n",
    "from selenium.webdriver.common.by import By\n",
    "from selenium.webdriver.support.ui import WebDriverWait\n",
    "from selenium.webdriver.support import expected_conditions as EC\n",
    "\n",
    "import undetected_chromedriver as uc\n",
    "\n",
    "driver = uc.Chrome()"
   ]
  },
  {
   "cell_type": "code",
   "execution_count": 4,
   "id": "9159a4cc-9c8a-4318-9ab5-49f602a300aa",
   "metadata": {},
   "outputs": [],
   "source": [
    "initial_url = 'https://ibank.klikbca.com'\n",
    "\n",
    "driver.get(initial_url)\n",
    "\n",
    "time.sleep(3)\n",
    "driver.find_element(By.ID, 'txt_user_id').send_keys(USERNAME)\n",
    "elem = driver.find_element(By.XPATH, '//input[@name=\"value(user_id)\"]')\n",
    "driver.execute_script(f'arguments[0].value = arguments[1];', elem, USERNAME)\n",
    "time.sleep(3)\n",
    "\n",
    "driver.find_element(By.ID, 'txt_pswd').send_keys(PWD)\n",
    "elem = driver.find_element(By.XPATH, '//input[@name=\"value(pswd)\"]')\n",
    "driver.execute_script(f'arguments[0].value = arguments[1];', elem, PWD)\n",
    "\n",
    "#time.sleep(30)\n",
    "\n",
    "\n",
    "driver.find_element(By.ID, 'btnSubmit').click()"
   ]
  },
  {
   "cell_type": "code",
   "execution_count": null,
   "id": "1188e35f-5b32-4a0b-90cd-4422b63affce",
   "metadata": {},
   "outputs": [],
   "source": [
    "driver.switch_to.frame(driver.find_element(By.NAME, 'menu'))\n",
    "\n",
    "driver.find_element(By.XPATH, '//b[contains(text(), \"Transaction Status\")]/parent::font/parent::a').click()\n",
    "time.sleep(3)"
   ]
  }
 ],
 "metadata": {
  "kernelspec": {
   "display_name": "Python 3 (ipykernel)",
   "language": "python",
   "name": "python3"
  },
  "language_info": {
   "codemirror_mode": {
    "name": "ipython",
    "version": 3
   },
   "file_extension": ".py",
   "mimetype": "text/x-python",
   "name": "python",
   "nbconvert_exporter": "python",
   "pygments_lexer": "ipython3",
   "version": "3.13.1"
  }
 },
 "nbformat": 4,
 "nbformat_minor": 5
}
